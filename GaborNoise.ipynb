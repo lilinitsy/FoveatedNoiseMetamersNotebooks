{
 "cells": [
  {
   "cell_type": "code",
   "execution_count": null,
   "id": "26101d8b",
   "metadata": {},
   "outputs": [],
   "source": []
  }
 ],
 "metadata": {
  "kernelspec": {
   "display_name": "foveatednoisemetamers",
   "language": "python",
   "name": "python3"
  },
  "language_info": {
   "name": "python",
   "version": "3.11.13"
  }
 },
 "nbformat": 4,
 "nbformat_minor": 5
}
